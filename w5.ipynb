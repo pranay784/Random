{
 "cells": [
  {
   "cell_type": "code",
   "execution_count": 7,
   "metadata": {},
   "outputs": [
    {
     "name": "stderr",
     "output_type": "stream",
     "text": [
      "\n",
      "Bad key text.parse_math in file /usr/share/matplotlib/mpl-data/matplotlibrc, line 303 ('text.parse_math: True  # Use mathtext if there is an even number of unescaped')\n",
      "You probably need to get an updated matplotlibrc file from\n",
      "https://github.com/matplotlib/matplotlib/blob/v3.5.2/matplotlibrc.template\n",
      "or from the matplotlib source distribution\n"
     ]
    },
    {
     "ename": "ValueError",
     "evalue": "Key grid.color: '\"' does not look like a color arg",
     "output_type": "error",
     "traceback": [
      "\u001b[0;31m---------------------------------------------------------------------------\u001b[0m",
      "\u001b[0;31mValueError\u001b[0m                                Traceback (most recent call last)",
      "\u001b[1;32m/home/pranay/Documents/SP assignments/w5/w5.ipynb Cell 1\u001b[0m in \u001b[0;36m3\n\u001b[1;32m      <a href='vscode-notebook-cell:/home/pranay/Documents/SP%20assignments/w5/w5.ipynb#W0sZmlsZQ%3D%3D?line=0'>1</a>\u001b[0m \u001b[39mimport\u001b[39;00m \u001b[39mpandas\u001b[39;00m \u001b[39mas\u001b[39;00m \u001b[39mpd\u001b[39;00m\n\u001b[1;32m      <a href='vscode-notebook-cell:/home/pranay/Documents/SP%20assignments/w5/w5.ipynb#W0sZmlsZQ%3D%3D?line=1'>2</a>\u001b[0m \u001b[39mimport\u001b[39;00m \u001b[39mnumpy\u001b[39;00m \u001b[39mas\u001b[39;00m \u001b[39mnp\u001b[39;00m\n\u001b[0;32m----> <a href='vscode-notebook-cell:/home/pranay/Documents/SP%20assignments/w5/w5.ipynb#W0sZmlsZQ%3D%3D?line=2'>3</a>\u001b[0m \u001b[39mimport\u001b[39;00m \u001b[39mmatplotlib\u001b[39;00m\u001b[39m.\u001b[39;00m\u001b[39mpyplot\u001b[39;00m \u001b[39mas\u001b[39;00m \u001b[39mplt\u001b[39;00m\n\u001b[1;32m      <a href='vscode-notebook-cell:/home/pranay/Documents/SP%20assignments/w5/w5.ipynb#W0sZmlsZQ%3D%3D?line=4'>5</a>\u001b[0m \u001b[39m# Read the data\u001b[39;00m\n\u001b[1;32m      <a href='vscode-notebook-cell:/home/pranay/Documents/SP%20assignments/w5/w5.ipynb#W0sZmlsZQ%3D%3D?line=5'>6</a>\u001b[0m df \u001b[39m=\u001b[39m pd\u001b[39m.\u001b[39mread_csv(\u001b[39m'\u001b[39m\u001b[39mcps.csv\u001b[39m\u001b[39m'\u001b[39m)\n",
      "File \u001b[0;32m/usr/lib/python3/dist-packages/matplotlib/__init__.py:880\u001b[0m\n\u001b[1;32m    874\u001b[0m     \u001b[39mreturn\u001b[39;00m config\n\u001b[1;32m    877\u001b[0m \u001b[39m# When constructing the global instances, we need to perform certain updates\u001b[39;00m\n\u001b[1;32m    878\u001b[0m \u001b[39m# by explicitly calling the superclass (dict.update, dict.items) to avoid\u001b[39;00m\n\u001b[1;32m    879\u001b[0m \u001b[39m# triggering resolution of _auto_backend_sentinel.\u001b[39;00m\n\u001b[0;32m--> 880\u001b[0m rcParamsDefault \u001b[39m=\u001b[39m _rc_params_in_file(\n\u001b[1;32m    881\u001b[0m     cbook\u001b[39m.\u001b[39;49m_get_data_path(\u001b[39m\"\u001b[39;49m\u001b[39mmatplotlibrc\u001b[39;49m\u001b[39m\"\u001b[39;49m),\n\u001b[1;32m    882\u001b[0m     \u001b[39m# Strip leading comment.\u001b[39;49;00m\n\u001b[1;32m    883\u001b[0m     transform\u001b[39m=\u001b[39;49m\u001b[39mlambda\u001b[39;49;00m line: line[\u001b[39m1\u001b[39;49m:] \u001b[39mif\u001b[39;49;00m line\u001b[39m.\u001b[39;49mstartswith(\u001b[39m\"\u001b[39;49m\u001b[39m#\u001b[39;49m\u001b[39m\"\u001b[39;49m) \u001b[39melse\u001b[39;49;00m line,\n\u001b[1;32m    884\u001b[0m     fail_on_error\u001b[39m=\u001b[39;49m\u001b[39mTrue\u001b[39;49;00m)\n\u001b[1;32m    885\u001b[0m \u001b[39mdict\u001b[39m\u001b[39m.\u001b[39mupdate(rcParamsDefault, rcsetup\u001b[39m.\u001b[39m_hardcoded_defaults)\n\u001b[1;32m    886\u001b[0m \u001b[39m# Normally, the default matplotlibrc file contains *no* entry for backend (the\u001b[39;00m\n\u001b[1;32m    887\u001b[0m \u001b[39m# corresponding line starts with ##, not #; we fill on _auto_backend_sentinel\u001b[39;00m\n\u001b[1;32m    888\u001b[0m \u001b[39m# in that case.  However, packagers can set a different default backend\u001b[39;00m\n\u001b[1;32m    889\u001b[0m \u001b[39m# (resulting in a normal `#backend: foo` line) in which case we should *not*\u001b[39;00m\n\u001b[1;32m    890\u001b[0m \u001b[39m# fill in _auto_backend_sentinel.\u001b[39;00m\n",
      "File \u001b[0;32m/usr/lib/python3/dist-packages/matplotlib/__init__.py:814\u001b[0m, in \u001b[0;36m_rc_params_in_file\u001b[0;34m(fname, transform, fail_on_error)\u001b[0m\n\u001b[1;32m    812\u001b[0m \u001b[39mif\u001b[39;00m key \u001b[39min\u001b[39;00m rcsetup\u001b[39m.\u001b[39m_validators:\n\u001b[1;32m    813\u001b[0m     \u001b[39mif\u001b[39;00m fail_on_error:\n\u001b[0;32m--> 814\u001b[0m         config[key] \u001b[39m=\u001b[39m val  \u001b[39m# try to convert to proper type or raise\u001b[39;00m\n\u001b[1;32m    815\u001b[0m     \u001b[39melse\u001b[39;00m:\n\u001b[1;32m    816\u001b[0m         \u001b[39mtry\u001b[39;00m:\n",
      "File \u001b[0;32m/usr/lib/python3/dist-packages/matplotlib/__init__.py:650\u001b[0m, in \u001b[0;36mRcParams.__setitem__\u001b[0;34m(self, key, val)\u001b[0m\n\u001b[1;32m    648\u001b[0m         cval \u001b[39m=\u001b[39m \u001b[39mself\u001b[39m\u001b[39m.\u001b[39mvalidate[key](val)\n\u001b[1;32m    649\u001b[0m     \u001b[39mexcept\u001b[39;00m \u001b[39mValueError\u001b[39;00m \u001b[39mas\u001b[39;00m ve:\n\u001b[0;32m--> 650\u001b[0m         \u001b[39mraise\u001b[39;00m \u001b[39mValueError\u001b[39;00m(\u001b[39mf\u001b[39m\u001b[39m\"\u001b[39m\u001b[39mKey \u001b[39m\u001b[39m{\u001b[39;00mkey\u001b[39m}\u001b[39;00m\u001b[39m: \u001b[39m\u001b[39m{\u001b[39;00mve\u001b[39m}\u001b[39;00m\u001b[39m\"\u001b[39m) \u001b[39mfrom\u001b[39;00m \u001b[39mNone\u001b[39m\n\u001b[1;32m    651\u001b[0m     \u001b[39mdict\u001b[39m\u001b[39m.\u001b[39m\u001b[39m__setitem__\u001b[39m(\u001b[39mself\u001b[39m, key, cval)\n\u001b[1;32m    652\u001b[0m \u001b[39mexcept\u001b[39;00m \u001b[39mKeyError\u001b[39;00m \u001b[39mas\u001b[39;00m err:\n",
      "\u001b[0;31mValueError\u001b[0m: Key grid.color: '\"' does not look like a color arg"
     ]
    }
   ],
   "source": [
    "import pandas as pd\n",
    "import numpy as np\n",
    "import matplotlib.pyplot as plt\n",
    "\n",
    "# Read the data\n",
    "df = pd.read_csv('cps.csv')\n",
    "df.tail()\n"
   ]
  },
  {
   "cell_type": "code",
   "execution_count": 5,
   "metadata": {},
   "outputs": [],
   "source": [
    "cps_data = df[['School_ID', 'Short_Name', 'Is_High_School', 'Zip', 'Student_Count_Total', 'College_Enrollment_Rate_School']]\n"
   ]
  },
  {
   "cell_type": "code",
   "execution_count": 5,
   "metadata": {},
   "outputs": [
    {
     "name": "stdout",
     "output_type": "stream",
     "text": [
      "Defaulting to user installation because normal site-packages is not writeable\n",
      "\u001b[33mWARNING: Skipping /usr/lib/python3.11/dist-packages/numpy-1.21.5.egg-info due to invalid metadata entry 'name'\u001b[0m\u001b[33m\n",
      "\u001b[0mRequirement already satisfied: matplotlib in /usr/lib/python3/dist-packages (3.5.2)\n",
      "\u001b[33mWARNING: Skipping /usr/lib/python3.11/dist-packages/numpy-1.21.5.egg-info due to invalid metadata entry 'name'\u001b[0m\u001b[33m\n",
      "\u001b[0mNote: you may need to restart the kernel to use updated packages.\n"
     ]
    }
   ],
   "source": [
    "pip install matplotlib"
   ]
  },
  {
   "cell_type": "code",
   "execution_count": 16,
   "metadata": {},
   "outputs": [
    {
     "data": {
      "text/html": [
       "<div>\n",
       "<style scoped>\n",
       "    .dataframe tbody tr th:only-of-type {\n",
       "        vertical-align: middle;\n",
       "    }\n",
       "\n",
       "    .dataframe tbody tr th {\n",
       "        vertical-align: top;\n",
       "    }\n",
       "\n",
       "    .dataframe thead th {\n",
       "        text-align: right;\n",
       "    }\n",
       "</style>\n",
       "<table border=\"1\" class=\"dataframe\">\n",
       "  <thead>\n",
       "    <tr style=\"text-align: right;\">\n",
       "      <th></th>\n",
       "      <th>School_ID</th>\n",
       "      <th>Short_Name</th>\n",
       "      <th>Is_High_School</th>\n",
       "      <th>Zip</th>\n",
       "      <th>Student_Count_Total</th>\n",
       "      <th>College_Enrollment_Rate_School</th>\n",
       "      <th>Lowest Grade Offered</th>\n",
       "      <th>Highest Grade Offered</th>\n",
       "      <th>Starting Hour</th>\n",
       "    </tr>\n",
       "  </thead>\n",
       "  <tbody>\n",
       "    <tr>\n",
       "      <th>0</th>\n",
       "      <td>609952</td>\n",
       "      <td>GREENE</td>\n",
       "      <td>False</td>\n",
       "      <td>60609</td>\n",
       "      <td>415</td>\n",
       "      <td>58.084302</td>\n",
       "      <td>PK,K,1,2,3,4,5</td>\n",
       "      <td>NaN</td>\n",
       "      <td>08:00 AM</td>\n",
       "    </tr>\n",
       "    <tr>\n",
       "      <th>1</th>\n",
       "      <td>609869</td>\n",
       "      <td>LANGFORD</td>\n",
       "      <td>False</td>\n",
       "      <td>60636</td>\n",
       "      <td>241</td>\n",
       "      <td>58.084302</td>\n",
       "      <td>PK,K,1,2,3,4,5,6,7,8</td>\n",
       "      <td>NaN</td>\n",
       "      <td>08:15 AM</td>\n",
       "    </tr>\n",
       "    <tr>\n",
       "      <th>2</th>\n",
       "      <td>609896</td>\n",
       "      <td>DRUMMOND</td>\n",
       "      <td>False</td>\n",
       "      <td>60622</td>\n",
       "      <td>346</td>\n",
       "      <td>58.084302</td>\n",
       "      <td>PK,K,1,2,3,4,5,6,7,8</td>\n",
       "      <td>NaN</td>\n",
       "      <td>08:30 AM</td>\n",
       "    </tr>\n",
       "    <tr>\n",
       "      <th>3</th>\n",
       "      <td>610590</td>\n",
       "      <td>BRONZEVILLE CLASSICAL</td>\n",
       "      <td>False</td>\n",
       "      <td>60609</td>\n",
       "      <td>91</td>\n",
       "      <td>58.084302</td>\n",
       "      <td>K,1,2</td>\n",
       "      <td>NaN</td>\n",
       "      <td>7:45 AM</td>\n",
       "    </tr>\n",
       "    <tr>\n",
       "      <th>4</th>\n",
       "      <td>610087</td>\n",
       "      <td>BLAIR</td>\n",
       "      <td>False</td>\n",
       "      <td>60638</td>\n",
       "      <td>248</td>\n",
       "      <td>58.084302</td>\n",
       "      <td>PK,K,1,2</td>\n",
       "      <td>NaN</td>\n",
       "      <td>7:30 AM</td>\n",
       "    </tr>\n",
       "    <tr>\n",
       "      <th>5</th>\n",
       "      <td>610503</td>\n",
       "      <td>FRAZIER PROSPECTIVE</td>\n",
       "      <td>False</td>\n",
       "      <td>60624</td>\n",
       "      <td>198</td>\n",
       "      <td>58.084302</td>\n",
       "      <td>K,1,2,3,4,5,6,7,8</td>\n",
       "      <td>NaN</td>\n",
       "      <td>7:45  AM</td>\n",
       "    </tr>\n",
       "    <tr>\n",
       "      <th>6</th>\n",
       "      <td>400164</td>\n",
       "      <td>INSTITUTO - LOZANO HS</td>\n",
       "      <td>True</td>\n",
       "      <td>60608</td>\n",
       "      <td>78</td>\n",
       "      <td>21.900000</td>\n",
       "      <td>9,10,11,12</td>\n",
       "      <td>NaN</td>\n",
       "      <td>8:30 AM</td>\n",
       "    </tr>\n",
       "    <tr>\n",
       "      <th>7</th>\n",
       "      <td>610059</td>\n",
       "      <td>MAYER</td>\n",
       "      <td>False</td>\n",
       "      <td>60614</td>\n",
       "      <td>760</td>\n",
       "      <td>58.084302</td>\n",
       "      <td>PK,K,1,2,3,4,5,6,7,8</td>\n",
       "      <td>NaN</td>\n",
       "      <td>08:30 AM</td>\n",
       "    </tr>\n",
       "    <tr>\n",
       "      <th>8</th>\n",
       "      <td>610206</td>\n",
       "      <td>TWAIN</td>\n",
       "      <td>False</td>\n",
       "      <td>60638</td>\n",
       "      <td>1094</td>\n",
       "      <td>58.084302</td>\n",
       "      <td>PK,K,1,2,3,4,5,6,7,8</td>\n",
       "      <td>NaN</td>\n",
       "      <td>8:30 AM</td>\n",
       "    </tr>\n",
       "    <tr>\n",
       "      <th>9</th>\n",
       "      <td>609872</td>\n",
       "      <td>PEREZ</td>\n",
       "      <td>False</td>\n",
       "      <td>60608</td>\n",
       "      <td>318</td>\n",
       "      <td>58.084302</td>\n",
       "      <td>PK,K,1,2,3,4,5,6,7,8</td>\n",
       "      <td>NaN</td>\n",
       "      <td>08:00 AM</td>\n",
       "    </tr>\n",
       "  </tbody>\n",
       "</table>\n",
       "</div>"
      ],
      "text/plain": [
       "   School_ID             Short_Name  Is_High_School    Zip  \\\n",
       "0     609952                 GREENE           False  60609   \n",
       "1     609869               LANGFORD           False  60636   \n",
       "2     609896               DRUMMOND           False  60622   \n",
       "3     610590  BRONZEVILLE CLASSICAL           False  60609   \n",
       "4     610087                  BLAIR           False  60638   \n",
       "5     610503    FRAZIER PROSPECTIVE           False  60624   \n",
       "6     400164  INSTITUTO - LOZANO HS            True  60608   \n",
       "7     610059                  MAYER           False  60614   \n",
       "8     610206                  TWAIN           False  60638   \n",
       "9     609872                  PEREZ           False  60608   \n",
       "\n",
       "   Student_Count_Total  College_Enrollment_Rate_School  Lowest Grade Offered  \\\n",
       "0                  415                       58.084302        PK,K,1,2,3,4,5   \n",
       "1                  241                       58.084302  PK,K,1,2,3,4,5,6,7,8   \n",
       "2                  346                       58.084302  PK,K,1,2,3,4,5,6,7,8   \n",
       "3                   91                       58.084302                 K,1,2   \n",
       "4                  248                       58.084302              PK,K,1,2   \n",
       "5                  198                       58.084302     K,1,2,3,4,5,6,7,8   \n",
       "6                   78                       21.900000            9,10,11,12   \n",
       "7                  760                       58.084302  PK,K,1,2,3,4,5,6,7,8   \n",
       "8                 1094                       58.084302  PK,K,1,2,3,4,5,6,7,8   \n",
       "9                  318                       58.084302  PK,K,1,2,3,4,5,6,7,8   \n",
       "\n",
       "   Highest Grade Offered Starting Hour  \n",
       "0                    NaN      08:00 AM  \n",
       "1                    NaN      08:15 AM  \n",
       "2                    NaN      08:30 AM  \n",
       "3                    NaN      7:45 AM   \n",
       "4                    NaN       7:30 AM  \n",
       "5                    NaN     7:45  AM   \n",
       "6                    NaN      8:30 AM   \n",
       "7                    NaN      08:30 AM  \n",
       "8                    NaN       8:30 AM  \n",
       "9                    NaN      08:00 AM  "
      ]
     },
     "execution_count": 16,
     "metadata": {},
     "output_type": "execute_result"
    }
   ],
   "source": [
    "#Generate new columns for Lowest Grade Offered & Highest Grade Offered\n",
    "cps_data['Lowest Grade Offered'] = df['Grades_Offered_All'].str.split('-').str[0] \n",
    "cps_data['Highest Grade Offered'] = df['Grades_Offered_All'].str.split('-').str[1]\n",
    "\n",
    "#Generate new column for Starting Hour\n",
    "cps_data['Starting Hour'] = df['School_Hours'].str.split('-').str[0]\n",
    "\n",
    "valid_columns = cps_data.select_dtypes(include=['number']).columns\n",
    "\n",
    "# Fill missing values with mean\n",
    "cps_data[valid_columns] = cps_data[valid_columns].fillna(cps_data[valid_columns].mean())\n",
    "\n",
    "#Replace missing values with column mean\n",
    "#cps_data = cps_data.fillna(cps_data.mean())\n",
    "\n",
    "#Display first 10 rows of dataframe\n",
    "cps_data.head(10)\n"
   ]
  },
  {
   "cell_type": "code",
   "execution_count": null,
   "metadata": {},
   "outputs": [],
   "source": [
    "cps_data = df[['School_ID', 'Short_Name', 'Is_High_School', 'Zip', 'Student_Count_Total', 'College_Enrollment_Rate_School']]\n"
   ]
  },
  {
   "cell_type": "code",
   "execution_count": null,
   "metadata": {},
   "outputs": [],
   "source": [
    "cps_data = df[['School_ID', 'Short_Name', 'Is_High_School', 'Zip', 'Student_Count_Total', 'College_Enrollment_Rate_School']]\n"
   ]
  },
  {
   "cell_type": "code",
   "execution_count": 8,
   "metadata": {},
   "outputs": [
    {
     "name": "stdout",
     "output_type": "stream",
     "text": [
      "Mean & Standard Deviation of College Enrollment Rate for High Schools:  58.08430232558146  &  25.068653822753426\n"
     ]
    }
   ],
   "source": [
    "#Mean & Standard Deviation of College Enrollment Rate for High Schools\n",
    "high_school_enrollment_mean = cps_data.loc[cps_data['Is_High_School']==1, 'College_Enrollment_Rate_School'].mean()\n",
    "high_school_enrollment_std = cps_data.loc[cps_data['Is_High_School']==1, 'College_Enrollment_Rate_School'].std()\n",
    "print('Mean & Standard Deviation of College Enrollment Rate for High Schools: ', high_school_enrollment_mean,' & ', high_school_enrollment_std)\n"
   ]
  },
  {
   "cell_type": "code",
   "execution_count": 9,
   "metadata": {},
   "outputs": [
    {
     "name": "stdout",
     "output_type": "stream",
     "text": [
      "Mean & Standard Deviation of Student Count Total for non-High Schools:  521.5450733752621  &  268.63577025549176\n"
     ]
    }
   ],
   "source": [
    "#Mean & Standard Deviation of Student Count Total for non-High Schools\n",
    "no_high_school_count_mean = cps_data.loc[cps_data['Is_High_School']==0, 'Student_Count_Total'].mean()\n",
    "no_high_school_count_std = cps_data.loc[cps_data['Is_High_School']==0, 'Student_Count_Total'].std()\n",
    "print('Mean & Standard Deviation of Student Count Total for non-High Schools: ', no_high_school_count_mean,' & ', no_high_school_count_std)\n"
   ]
  },
  {
   "cell_type": "code",
   "execution_count": 2,
   "metadata": {},
   "outputs": [
    {
     "ename": "NameError",
     "evalue": "name 'cps_data' is not defined",
     "output_type": "error",
     "traceback": [
      "\u001b[0;31m---------------------------------------------------------------------------\u001b[0m",
      "\u001b[0;31mNameError\u001b[0m                                 Traceback (most recent call last)",
      "\u001b[1;32m/home/pranay/Documents/SP assignments/w5/w5.ipynb Cell 8\u001b[0m in \u001b[0;36m2\n\u001b[1;32m      <a href='vscode-notebook-cell:/home/pranay/Documents/SP%20assignments/w5/w5.ipynb#X10sZmlsZQ%3D%3D?line=0'>1</a>\u001b[0m \u001b[39m#Distribution of starting hours for all schools\u001b[39;00m\n\u001b[0;32m----> <a href='vscode-notebook-cell:/home/pranay/Documents/SP%20assignments/w5/w5.ipynb#X10sZmlsZQ%3D%3D?line=1'>2</a>\u001b[0m cps_data[\u001b[39m'\u001b[39m\u001b[39mStarting Hour\u001b[39m\u001b[39m'\u001b[39m]\u001b[39m.\u001b[39mvalue_counts()\u001b[39m.\u001b[39msort_index()\n\u001b[1;32m      <a href='vscode-notebook-cell:/home/pranay/Documents/SP%20assignments/w5/w5.ipynb#X10sZmlsZQ%3D%3D?line=3'>4</a>\u001b[0m plt\u001b[39m.\u001b[39mhist(cps_data[\u001b[39m'\u001b[39m\u001b[39mStarting_Hour\u001b[39m\u001b[39m'\u001b[39m])\n\u001b[1;32m      <a href='vscode-notebook-cell:/home/pranay/Documents/SP%20assignments/w5/w5.ipynb#X10sZmlsZQ%3D%3D?line=4'>5</a>\u001b[0m plt\u001b[39m.\u001b[39mtitle(\u001b[39m'\u001b[39m\u001b[39mDistribution of Starting Hours for All Schools\u001b[39m\u001b[39m'\u001b[39m)\n",
      "\u001b[0;31mNameError\u001b[0m: name 'cps_data' is not defined"
     ]
    }
   ],
   "source": [
    "#Distribution of starting hours for all schools\n",
    "cps_data['Starting Hour'].value_counts().sort_index()\n",
    "\n",
    "plt.hist(cps_data['Starting_Hour'])\n",
    "plt.title('Distribution of Starting Hours for All Schools')\n",
    "plt.xlabel('Starting Hour')\n",
    "plt.ylabel('Frequency')\n",
    "plt.show()\n"
   ]
  },
  {
   "cell_type": "code",
   "execution_count": 12,
   "metadata": {},
   "outputs": [
    {
     "name": "stdout",
     "output_type": "stream",
     "text": [
      "Number of schools outside of the Loop Neighborhood:  634\n"
     ]
    }
   ],
   "source": [
    "\n",
    "#Number of schools outside of the Loop Neighborhood (i.e., outside of zip codes 60601, 60602, 60603, 60604, 60605, 60606, 60607, and 60616): \n",
    "loop_zip_codes = [60601, 60602, 60603, 60604, 60605, 60606, 60607, 60616]\n",
    "non_loop_zip_count = cps_data.loc[~cps_data['Zip'].isin(loop_zip_codes)].shape[0]\n",
    "print('Number of schools outside of the Loop Neighborhood: ', non_loop_zip_count)"
   ]
  },
  {
   "cell_type": "code",
   "execution_count": null,
   "metadata": {},
   "outputs": [],
   "source": []
  }
 ],
 "metadata": {
  "kernelspec": {
   "display_name": "Python 3",
   "language": "python",
   "name": "python3"
  },
  "language_info": {
   "codemirror_mode": {
    "name": "ipython",
    "version": 3
   },
   "file_extension": ".py",
   "mimetype": "text/x-python",
   "name": "python",
   "nbconvert_exporter": "python",
   "pygments_lexer": "ipython3",
   "version": "3.11.2"
  },
  "orig_nbformat": 4
 },
 "nbformat": 4,
 "nbformat_minor": 2
}
