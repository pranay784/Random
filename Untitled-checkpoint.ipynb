{
 "cells": [
  {
   "cell_type": "code",
   "execution_count": 5,
   "id": "1da51a1f",
   "metadata": {},
   "outputs": [
    {
     "name": "stdout",
     "output_type": "stream",
     "text": [
      "   School_ID             Short_Name  Is_High_School    Zip  \\\n",
      "0     609952                 GREENE           False  60609   \n",
      "1     609869               LANGFORD           False  60636   \n",
      "2     609896               DRUMMOND           False  60622   \n",
      "3     610590  BRONZEVILLE CLASSICAL           False  60609   \n",
      "4     610087                  BLAIR           False  60638   \n",
      "5     610503    FRAZIER PROSPECTIVE           False  60624   \n",
      "6     400164  INSTITUTO - LOZANO HS            True  60608   \n",
      "7     610059                  MAYER           False  60614   \n",
      "8     610206                  TWAIN           False  60638   \n",
      "9     609872                  PEREZ           False  60608   \n",
      "\n",
      "   Student_Count_Total  College_Enrollment_Rate_School    Grades_Offered_All  \\\n",
      "0                  415                       58.084302        PK,K,1,2,3,4,5   \n",
      "1                  241                       58.084302  PK,K,1,2,3,4,5,6,7,8   \n",
      "2                  346                       58.084302  PK,K,1,2,3,4,5,6,7,8   \n",
      "3                   91                       58.084302                 K,1,2   \n",
      "4                  248                       58.084302              PK,K,1,2   \n",
      "5                  198                       58.084302     K,1,2,3,4,5,6,7,8   \n",
      "6                   78                       21.900000            9,10,11,12   \n",
      "7                  760                       58.084302  PK,K,1,2,3,4,5,6,7,8   \n",
      "8                 1094                       58.084302  PK,K,1,2,3,4,5,6,7,8   \n",
      "9                  318                       58.084302  PK,K,1,2,3,4,5,6,7,8   \n",
      "\n",
      "          School_Hours  Lowest_Grade_Offered  Highest_Grade_Offered  \\\n",
      "0    08:00 AM-03:00 PM        PK,K,1,2,3,4,5                    NaN   \n",
      "1    08:15 AM-03:15 PM  PK,K,1,2,3,4,5,6,7,8                    NaN   \n",
      "2    08:30 AM-03:30 PM  PK,K,1,2,3,4,5,6,7,8                    NaN   \n",
      "3    7:45 AM - 2:45 PM                 K,1,2                    NaN   \n",
      "4      7:30 AM-2:30 PM              PK,K,1,2                    NaN   \n",
      "5  7:45  AM - 2:45  PM     K,1,2,3,4,5,6,7,8                    NaN   \n",
      "6    8:30 AM - 2:55 PM            9,10,11,12                    NaN   \n",
      "7    08:30 AM-03:30 PM  PK,K,1,2,3,4,5,6,7,8                    NaN   \n",
      "8      8:30 AM-3:30 PM  PK,K,1,2,3,4,5,6,7,8                    NaN   \n",
      "9    08:00 AM-03:00 PM  PK,K,1,2,3,4,5,6,7,8                    NaN   \n",
      "\n",
      "  Starting_Hour  \n",
      "0      08:00 AM  \n",
      "1      08:15 AM  \n",
      "2      08:30 AM  \n",
      "3      7:45 AM   \n",
      "4       7:30 AM  \n",
      "5     7:45  AM   \n",
      "6      8:30 AM   \n",
      "7      08:30 AM  \n",
      "8       8:30 AM  \n",
      "9      08:00 AM  \n"
     ]
    },
    {
     "name": "stderr",
     "output_type": "stream",
     "text": [
      "C:\\Users\\pranay\\AppData\\Local\\Temp/ipykernel_11652/2929323091.py:15: FutureWarning: Dropping of nuisance columns in DataFrame reductions (with 'numeric_only=None') is deprecated; in a future version this will raise TypeError.  Select only valid columns before calling the reduction.\n",
      "  new_df.fillna(new_df.mean(), inplace=True)\n"
     ]
    }
   ],
   "source": [
    "import pandas as pd\n",
    "\n",
    "# load cps.csv file into a DataFrame\n",
    "df = pd.read_csv(r'C:\\Users\\pranay\\OneDrive\\Documents\\datasets\\covidd\\cps.csv')\n",
    "\n",
    "# create new DataFrame with desired columns\n",
    "new_df = df[['School_ID', 'Short_Name', 'Is_High_School', 'Zip', 'Student_Count_Total', 'College_Enrollment_Rate_School', 'Grades_Offered_All', 'School_Hours']].copy()\n",
    "\n",
    "# generate new columns for lowest and highest grades offered and starting hour\n",
    "new_df['Lowest_Grade_Offered'] = new_df['Grades_Offered_All'].str.split('-').str[0]\n",
    "new_df['Highest_Grade_Offered'] = new_df['Grades_Offered_All'].str.split('-').str[1]\n",
    "new_df['Starting_Hour'] = new_df['School_Hours'].str.split('-').str[0]\n",
    "\n",
    "# replace missing numeric values with mean for that column\n",
    "new_df.fillna(new_df.mean(), inplace=True)\n",
    "\n",
    "# display first 10 rows of new DataFrame\n",
    "print(new_df.head(10))\n",
    "\n",
    "\n"
   ]
  },
  {
   "cell_type": "code",
   "execution_count": 6,
   "id": "170665fb",
   "metadata": {},
   "outputs": [
    {
     "name": "stdout",
     "output_type": "stream",
     "text": [
      "Mean of College Enrollment Rate for High Schools: 58.08430232558146\n",
      "Standard Deviation of College Enrollment Rate for High Schools: 25.068653822753426\n"
     ]
    }
   ],
   "source": [
    "# calculate mean and standard deviation of College Enrollment Rate for High Schools\n",
    "high_schools = new_df[new_df['Is_High_School'] == True]\n",
    "cer_mean = high_schools['College_Enrollment_Rate_School'].mean()\n",
    "cer_std = high_schools['College_Enrollment_Rate_School'].std()\n",
    "print(f\"Mean of College Enrollment Rate for High Schools: {cer_mean}\")\n",
    "print(f\"Standard Deviation of College Enrollment Rate for High Schools: {cer_std}\")\n",
    "\n"
   ]
  },
  {
   "cell_type": "code",
   "execution_count": 7,
   "id": "26ef4548",
   "metadata": {},
   "outputs": [
    {
     "name": "stdout",
     "output_type": "stream",
     "text": [
      "Mean of Student_Count_Total for non-High Schools: 521.5450733752621\n",
      "Standard Deviation of Student_Count_Total for non-High Schools: 268.63577025549176\n"
     ]
    }
   ],
   "source": [
    "# calculate mean and standard deviation of Student_Count_Total for non-High Schools\n",
    "non_high_schools = new_df[new_df['Is_High_School'] == False]\n",
    "sct_mean = non_high_schools['Student_Count_Total'].mean()\n",
    "sct_std = non_high_schools['Student_Count_Total'].std()\n",
    "print(f\"Mean of Student_Count_Total for non-High Schools: {sct_mean}\")\n",
    "print(f\"Standard Deviation of Student_Count_Total for non-High Schools: {sct_std}\")\n",
    "\n"
   ]
  },
  {
   "cell_type": "code",
   "execution_count": 8,
   "id": "e0d29148",
   "metadata": {},
   "outputs": [
    {
     "name": "stdout",
     "output_type": "stream",
     "text": [
      "07:45 AM        66\n",
      "08:00 AM        63\n",
      "08:45 AM        60\n",
      "08:30 AM        43\n",
      "08:15 AM        38\n",
      "                ..\n",
      "07:30 AM         1\n",
      "7:45             1\n",
      "07:45 AM         1\n",
      "8:15/8:45 AM     1\n",
      "8:15             1\n",
      "Name: Starting_Hour, Length: 106, dtype: int64\n"
     ]
    }
   ],
   "source": [
    "# display distribution of starting hours for all schools\n",
    "print(new_df['Starting_Hour'].value_counts())"
   ]
  },
  {
   "cell_type": "code",
   "execution_count": 9,
   "id": "c4849506",
   "metadata": {},
   "outputs": [
    {
     "name": "stdout",
     "output_type": "stream",
     "text": [
      "Number of schools outside of the Loop Neighborhood:  634\n"
     ]
    }
   ],
   "source": [
    "#Number of schools outside of the Loop Neighborhood (i.e., outside of zip codes 60601, 60602, 60603, 60604, 60605, 60606, 60607, and 60616): \n",
    "loop_zip_codes = [60601, 60602, 60603, 60604, 60605, 60606, 60607, 60616]\n",
    "non_loop_zip_count = new_df.loc[~new_df['Zip'].isin(loop_zip_codes)].shape[0]\n",
    "print('Number of schools outside of the Loop Neighborhood: ', non_loop_zip_count)"
   ]
  },
  {
   "cell_type": "code",
   "execution_count": null,
   "id": "18266d78",
   "metadata": {},
   "outputs": [],
   "source": []
  },
  {
   "cell_type": "code",
   "execution_count": null,
   "id": "3d168f25",
   "metadata": {},
   "outputs": [],
   "source": []
  }
 ],
 "metadata": {
  "kernelspec": {
   "display_name": "Python 3 (ipykernel)",
   "language": "python",
   "name": "python3"
  },
  "language_info": {
   "codemirror_mode": {
    "name": "ipython",
    "version": 3
   },
   "file_extension": ".py",
   "mimetype": "text/x-python",
   "name": "python",
   "nbconvert_exporter": "python",
   "pygments_lexer": "ipython3",
   "version": "3.9.7"
  }
 },
 "nbformat": 4,
 "nbformat_minor": 5
}
